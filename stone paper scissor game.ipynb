{
 "cells": [
  {
   "cell_type": "markdown",
   "id": "144dd2d5",
   "metadata": {},
   "source": [
    "###### STONE PAPER SCISSOR GAME"
   ]
  },
  {
   "cell_type": "code",
   "execution_count": 1,
   "id": "ca46f29b",
   "metadata": {},
   "outputs": [],
   "source": [
    "import random"
   ]
  },
  {
   "cell_type": "markdown",
   "id": "7e59842c",
   "metadata": {},
   "source": [
    "##### with break"
   ]
  },
  {
   "cell_type": "code",
   "execution_count": 2,
   "id": "0daf8041",
   "metadata": {},
   "outputs": [
    {
     "name": "stdout",
     "output_type": "stream",
     "text": [
      "Press 1 for stone \n",
      "Press 2 for scissor \n",
      "Press 3 for paper\n",
      "\n",
      "Enter the value : 2\n",
      "Computer win\n",
      "\n"
     ]
    }
   ],
   "source": [
    "while True:\n",
    "    print(\"Press 1 for stone \\nPress 2 for scissor \\nPress 3 for paper\\n\")\n",
    "    player=int(input(\"Enter the value : \"))\n",
    "    com=[1,2,3]\n",
    "    mad=[4,5,6,7,8,9]\n",
    "    a=random.choice(com)\n",
    "    if a==1 and player==1:\n",
    "        print(\"Draw\\n\")\n",
    "    elif a==2 and player==1:\n",
    "        print(\"player win\\n\")\n",
    "    elif a==3 and player==1:\n",
    "        print(\"Computer win\\n\")\n",
    "    elif a==1 and player==2:\n",
    "        print(\"Computer win\\n\")\n",
    "    elif a==2 and player==2:\n",
    "        print(\"Draw\\n\")\n",
    "    elif a==3 and player==2:\n",
    "        print(\"player win\\n\")\n",
    "    elif a==1 and player==3:\n",
    "        print(\"player win\\n\")\n",
    "    elif a==2 and player==3:\n",
    "        print(\"computer win\\n\")\n",
    "    elif a==3 and player==3:\n",
    "        print(\"Draw\\n\")\n",
    "    elif player==4:\n",
    "        print(\"Enter valid number\")\n",
    "    elif player==5:\n",
    "        print(\"Enter valid number\")\n",
    "    elif player==6:\n",
    "        print(\"Enter valid number\")\n",
    "    elif player==7:\n",
    "        print(\"Enter valid number\")\n",
    "    elif player==8:\n",
    "        print(\"Enter valid number\")\n",
    "    elif player==9:\n",
    "        print(\"Enter valid number\")\n",
    "    else:\n",
    "        print(\"Invalid input\")\n",
    "    break"
   ]
  },
  {
   "cell_type": "markdown",
   "id": "77742894",
   "metadata": {},
   "source": [
    "##### without break"
   ]
  },
  {
   "cell_type": "code",
   "execution_count": null,
   "id": "9e5bfbe0",
   "metadata": {},
   "outputs": [
    {
     "name": "stdout",
     "output_type": "stream",
     "text": [
      "Press 1 for stone \n",
      "Press 2 for scissor \n",
      "Press 3 for paper\n",
      "\n",
      "Enter the value : 1\n",
      "Draw\n",
      "\n",
      "Press 1 for stone \n",
      "Press 2 for scissor \n",
      "Press 3 for paper\n",
      "\n",
      "Enter the value : 2\n",
      "Computer win\n",
      "\n",
      "Press 1 for stone \n",
      "Press 2 for scissor \n",
      "Press 3 for paper\n",
      "\n",
      "Enter the value : 3\n",
      "Draw\n",
      "\n",
      "Press 1 for stone \n",
      "Press 2 for scissor \n",
      "Press 3 for paper\n",
      "\n",
      "Enter the value : 4\n",
      "Enter valid number\n",
      "Press 1 for stone \n",
      "Press 2 for scissor \n",
      "Press 3 for paper\n",
      "\n",
      "Enter the value : 5\n",
      "Enter valid number\n",
      "Press 1 for stone \n",
      "Press 2 for scissor \n",
      "Press 3 for paper\n",
      "\n",
      "Enter the value : 6\n",
      "Enter valid number\n",
      "Press 1 for stone \n",
      "Press 2 for scissor \n",
      "Press 3 for paper\n",
      "\n",
      "Enter the value : 7\n",
      "Enter valid number\n",
      "Press 1 for stone \n",
      "Press 2 for scissor \n",
      "Press 3 for paper\n",
      "\n",
      "Enter the value : 8\n",
      "Enter valid number\n",
      "Press 1 for stone \n",
      "Press 2 for scissor \n",
      "Press 3 for paper\n",
      "\n",
      "Enter the value : 9\n",
      "Enter valid number\n",
      "Press 1 for stone \n",
      "Press 2 for scissor \n",
      "Press 3 for paper\n",
      "\n",
      "Enter the value : 10\n",
      "Invalid input\n",
      "Press 1 for stone \n",
      "Press 2 for scissor \n",
      "Press 3 for paper\n",
      "\n"
     ]
    }
   ],
   "source": [
    "while True:\n",
    "    print(\"Press 1 for stone \\nPress 2 for scissor \\nPress 3 for paper\\n\")\n",
    "    player=int(input(\"Enter the value : \"))\n",
    "    com=[1,2,3]\n",
    "    mad=[4,5,6,7,8,9]\n",
    "    a=random.choice(com)\n",
    "    if a==1 and player==1:\n",
    "        print(\"Draw\\n\")\n",
    "    elif a==2 and player==1:\n",
    "        print(\"player win\\n\")\n",
    "    elif a==3 and player==1:\n",
    "        print(\"Computer win\\n\")\n",
    "    elif a==1 and player==2:\n",
    "        print(\"Computer win\\n\")\n",
    "    elif a==2 and player==2:\n",
    "        print(\"Draw\\n\")\n",
    "    elif a==3 and player==2:\n",
    "        print(\"player win\\n\")\n",
    "    elif a==1 and player==3:\n",
    "        print(\"player win\\n\")\n",
    "    elif a==2 and player==3:\n",
    "        print(\"computer win\\n\")\n",
    "    elif a==3 and player==3:\n",
    "        print(\"Draw\\n\")\n",
    "    elif player==4:\n",
    "        print(\"Enter valid number\")\n",
    "    elif player==5:\n",
    "        print(\"Enter valid number\")\n",
    "    elif player==6:\n",
    "        print(\"Enter valid number\")\n",
    "    elif player==7:\n",
    "        print(\"Enter valid number\")\n",
    "    elif player==8:\n",
    "        print(\"Enter valid number\")\n",
    "    elif player==9:\n",
    "        print(\"Enter valid number\")\n",
    "    else:\n",
    "        print(\"Invalid input\")"
   ]
  },
  {
   "cell_type": "code",
   "execution_count": null,
   "id": "ebae61e1",
   "metadata": {},
   "outputs": [],
   "source": []
  }
 ],
 "metadata": {
  "kernelspec": {
   "display_name": "Python 3",
   "language": "python",
   "name": "python3"
  },
  "language_info": {
   "codemirror_mode": {
    "name": "ipython",
    "version": 3
   },
   "file_extension": ".py",
   "mimetype": "text/x-python",
   "name": "python",
   "nbconvert_exporter": "python",
   "pygments_lexer": "ipython3",
   "version": "3.8.8"
  }
 },
 "nbformat": 4,
 "nbformat_minor": 5
}
